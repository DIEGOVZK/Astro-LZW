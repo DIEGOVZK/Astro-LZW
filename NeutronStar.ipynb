{
 "cells": [
  {
   "cell_type": "code",
   "execution_count": null,
   "metadata": {},
   "outputs": [],
   "source": []
  }
 ],
 "metadata": {
  "kernelspec": {
   "display_name": "Python 3.10.2 64-bit",
   "language": "python",
   "name": "python3"
  },
  "language_info": {
   "name": "python",
   "version": "3.10.2"
  },
  "orig_nbformat": 4,
  "vscode": {
   "interpreter": {
    "hash": "d84c7c7581fbb060129a7814c7432df99c3e3cd8cbdff8553cc4750b2941e60f"
   }
  }
 },
 "nbformat": 4,
 "nbformat_minor": 2
}
