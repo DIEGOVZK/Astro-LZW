{
 "cells": [
  {
   "cell_type": "code",
   "execution_count": null,
   "metadata": {},
   "outputs": [],
   "source": [
    "from PIL import Image\n",
    "import numpy as np\n",
    "import sys\n",
    "# import pickle\n",
    "\n",
    "# img = Image.open('./images/o_galaxy.png')\n",
    "img = Image.open('./images/o_galaxy.png')\n",
    "img_np = np.array(img)\n",
    "\n",
    "img_np_r = img_np[:,:,0]\n",
    "img_np_g = img_np[:,:,1]\n",
    "img_np_b = img_np[:,:,2]\n",
    "\n",
    "# Building and initializing the dictionary.\n",
    "dictionary_size = 256\n",
    "\n",
    "dictionary_r = {chr(i): i for i in range(dictionary_size)}\n",
    "dictionary_g = {chr(i): i for i in range(dictionary_size)}\n",
    "dictionary_b = {chr(i): i for i in range(dictionary_size)}\n",
    "\n",
    "string = \"\"             # String is null.\n",
    "\n",
    "compressed_data_r = [] # variable to store the compressed data.\n",
    "compressed_data_g = [] # variable to store the compressed data.\n",
    "compressed_data_b = [] # variable to store the compressed data."
   ]
  },
  {
   "cell_type": "code",
   "execution_count": null,
   "metadata": {},
   "outputs": [],
   "source": [
    "for line in img_np_r:\n",
    "    # fazer um dicionario por linha\n",
    "    temp = []\n",
    "    for item in line:\n",
    "        itemsToAdd = string + str(item)\n",
    "        if(itemsToAdd in dictionary_r): # se o item estiver no dicionario\n",
    "            string = itemsToAdd\n",
    "        else:\n",
    "            temp.append(dictionary_r.get(string)) # adiciona a string (posicao no dicionario) aos dados comprimidos\n",
    "            dictionary_r[itemsToAdd] = dictionary_size # adiciona \"itemsToAdd\" em dictionary_size\n",
    "            dictionary_size += 1 # aumenta o tamanho do dicionário\n",
    "            string = str(item) # adiciona \"item\" aos items encontrados\n",
    "    if(string in dictionary_r): # adiciona a ultima posição nos dados comprimidos\n",
    "        temp.append(dictionary_r[string])\n",
    "    compressed_data_r.append(temp)    \n",
    "\n",
    "dictionary_size = 256\n",
    "string = \"\" \n",
    "\n",
    "for line in img_np_g:\n",
    "    # fazer um dicionario por linha\n",
    "    temp = []\n",
    "    for item in line:\n",
    "        itemsToAdd = string + str(item)\n",
    "        if(itemsToAdd in dictionary_g): # se o item estiver no dicionario\n",
    "            string = itemsToAdd\n",
    "        else:\n",
    "            temp.append(dictionary_g.get(string)) # adiciona a string (posicao no dicionario) aos dados comprimidos\n",
    "            dictionary_g[itemsToAdd] = dictionary_size # adiciona \"itemsToAdd\" em dictionary_size\n",
    "            dictionary_size += 1 # aumenta o tamanho do dicionário\n",
    "            string = str(item) # adiciona \"item\" aos items encontrados\n",
    "    if(string in dictionary_g): # adiciona a ultima posição nos dados comprimidos\n",
    "        temp.append(dictionary_g[string])\n",
    "    compressed_data_g.append(temp)\n",
    "\n",
    "dictionary_size = 256\n",
    "string = \"\" \n",
    "\n",
    "for line in img_np_b:\n",
    "    # fazer um dicionario por linha\n",
    "    temp = []\n",
    "    for item in line:\n",
    "        itemsToAdd = string + str(item)\n",
    "        if(itemsToAdd in dictionary_b): # se o item estiver no dicionario\n",
    "            string = itemsToAdd\n",
    "        else:\n",
    "            temp.append(dictionary_b.get(string)) # adiciona a string (posicao no dicionario) aos dados comprimidos\n",
    "            dictionary_b[itemsToAdd] = dictionary_size # adiciona \"itemsToAdd\" em dictionary_size\n",
    "            dictionary_size += 1 # aumenta o tamanho do dicionário\n",
    "            string = str(item) # adiciona \"item\" aos items encontrados\n",
    "    if(string in dictionary_b): # adiciona a ultima posição nos dados comprimidos\n",
    "        temp.append(dictionary_b[string])\n",
    "    compressed_data_b.append(temp)\n"
   ]
  }
 ],
 "metadata": {
  "kernelspec": {
   "display_name": "Python 3.8.10 64-bit",
   "language": "python",
   "name": "python3"
  },
  "language_info": {
   "codemirror_mode": {
    "name": "ipython",
    "version": 3
   },
   "file_extension": ".py",
   "mimetype": "text/x-python",
   "name": "python",
   "nbconvert_exporter": "python",
   "pygments_lexer": "ipython3",
   "version": "3.8.10"
  },
  "orig_nbformat": 4,
  "vscode": {
   "interpreter": {
    "hash": "916dbcbb3f70747c44a77c7bcd40155683ae19c65e1c03b4aa3499c5328201f1"
   }
  }
 },
 "nbformat": 4,
 "nbformat_minor": 2
}
