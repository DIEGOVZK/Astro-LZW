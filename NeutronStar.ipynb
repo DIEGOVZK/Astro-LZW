{
 "cells": [
  {
   "cell_type": "code",
   "execution_count": 3,
   "metadata": {},
   "outputs": [
    {
     "name": "stdout",
     "output_type": "stream",
     "text": [
      "60605160\n"
     ]
    }
   ],
   "source": [
    "from PIL import Image\n",
    "import numpy as np\n",
    "import sys\n",
    "# import pickle\n",
    "\n",
    "# img = Image.open('./images/o_galaxy.png')\n",
    "img = Image.open('./images/o_galaxy.png')\n",
    "img_np = np.array(img)\n",
    "\n",
    "img_od = img_np.ravel() #converte array de n dimensões para array unidimensional (o array do numpy vira um array 1d)\n",
    "size = len(img_od)\n",
    "print(size)\n",
    "\n",
    "# Building and initializing the dictionary.\n",
    "dictionary_size = 256\n",
    "dictionary = {chr(i): i for i in range(dictionary_size)}\n",
    "string = \"\"             # String is null.\n",
    "compressed_data = []    # variable to store the compressed data."
   ]
  },
  {
   "cell_type": "code",
   "execution_count": 4,
   "metadata": {},
   "outputs": [],
   "source": [
    "for item in img_od:\n",
    "    itemsToAdd = string + str(item)\n",
    "    if(itemsToAdd in dictionary): # se o item estiver no dicionario\n",
    "        string = itemsToAdd\n",
    "    else:\n",
    "        compressed_data.append(dictionary.get(string)) # adiciona a string (posicao no dicionario) aos dados comprimidos\n",
    "        dictionary[itemsToAdd] = dictionary_size # adiciona \"itemsToAdd\" em dictionary_size\n",
    "        dictionary_size += 1 # aumenta o tamanho do dicionário\n",
    "        string = str(item) # adiciona \"item\" aos items encontrados\n",
    "\n",
    "if(string in dictionary): # adiciona a ultima posição nos dados comprimidos\n",
    "    compressed_data.append(dictionary[string])"
   ]
  },
  {
   "cell_type": "code",
   "execution_count": 5,
   "metadata": {},
   "outputs": [
    {
     "name": "stdout",
     "output_type": "stream",
     "text": [
      "13051940\n"
     ]
    }
   ],
   "source": [
    "\n",
    "print(len(compressed_data))\n",
    "\n",
    "# text_file = open('./Vectors/data', 'w')\n",
    "# bin_file = open('./Vectors/databin', 'wb')\n",
    "# for data in compressed_data:\n",
    "#     text_file.write(str(data))\n",
    "\n",
    "\n",
    "# pickle.dump(compressed_data, bin_file)\n",
    "\n",
    "\n",
    "\n",
    "# text_file.close()\n",
    "# bin_file.close()\n"
   ]
  }
 ],
 "metadata": {
  "kernelspec": {
   "display_name": "Python 3.8.10 64-bit",
   "language": "python",
   "name": "python3"
  },
  "language_info": {
   "codemirror_mode": {
    "name": "ipython",
    "version": 3
   },
   "file_extension": ".py",
   "mimetype": "text/x-python",
   "name": "python",
   "nbconvert_exporter": "python",
   "pygments_lexer": "ipython3",
   "version": "3.8.10"
  },
  "orig_nbformat": 4,
  "vscode": {
   "interpreter": {
    "hash": "916dbcbb3f70747c44a77c7bcd40155683ae19c65e1c03b4aa3499c5328201f1"
   }
  }
 },
 "nbformat": 4,
 "nbformat_minor": 2
}
