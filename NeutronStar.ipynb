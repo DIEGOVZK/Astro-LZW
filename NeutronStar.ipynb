{
 "cells": [
  {
   "cell_type": "code",
   "execution_count": 26,
   "metadata": {},
   "outputs": [],
   "source": [
    "from PIL import Image\n",
    "import numpy as np\n",
    "import sys\n",
    "from sys import argv\n",
    "from struct import *\n",
    "\n",
    "img = Image.open('./Images/o_galaxy.png')\n",
    "img_np = np.array(img)\n",
    "\n",
    "# Building and initializing the dictionary.\n",
    "dictionary_size = 256\n",
    "dictionary = {chr(i): i for i in range(dictionary_size)}\n",
    "string = \"\"             # String is null.\n",
    "compressed_data = []    # variable to store the compressed data."
   ]
  },
  {
   "cell_type": "code",
   "execution_count": 29,
   "metadata": {},
   "outputs": [],
   "source": [
    "for item in img_np:\n",
    "    strslipt = np.array2string(item)\n",
    "    strslipt = strslipt.split('[')\n",
    "    strslipt = str(strslipt)\n",
    "    strslipt = strslipt.split(',')\n",
    "    strslipt = str(strslipt)\n",
    "    strslipt = strslipt.split(']')\n",
    "    strslipt = str(strslipt)\n",
    "    itemsToAdd = string + strslipt\n",
    "    if(itemsToAdd in dictionary):\n",
    "        string = itemsToAdd\n",
    "    else:\n",
    "        compressed_data.append(dictionary.get(string))\n",
    "        dictionary[itemsToAdd] = dictionary_size\n",
    "        dictionary_size += 1\n",
    "        string = str(strslipt)\n",
    "\n",
    "# if(string in dictionary):\n",
    "#     compressed_data.append(dictionary[string])"
   ]
  },
  {
   "cell_type": "code",
   "execution_count": 30,
   "metadata": {},
   "outputs": [],
   "source": [
    "text_file = open('./Vectors/data.txt', 'w')\n",
    "for c in range(0, len(string)):\n",
    "    text_file.write(string[c])\n",
    "text_file.close()\n"
   ]
  },
  {
   "cell_type": "code",
   "execution_count": null,
   "metadata": {},
   "outputs": [],
   "source": []
  }
 ],
 "metadata": {
  "kernelspec": {
   "display_name": "Python 3.8.10 64-bit",
   "language": "python",
   "name": "python3"
  },
  "language_info": {
   "name": "python",
   "version": "3.8.10"
  },
  "orig_nbformat": 4,
  "vscode": {
   "interpreter": {
    "hash": "916dbcbb3f70747c44a77c7bcd40155683ae19c65e1c03b4aa3499c5328201f1"
   }
  }
 },
 "nbformat": 4,
 "nbformat_minor": 2
}
