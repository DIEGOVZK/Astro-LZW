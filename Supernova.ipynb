{
 "cells": [
  {
   "cell_type": "markdown",
   "metadata": {},
   "source": [
    "##### Algoritmo de decompressão da imagem  \n",
    "\n",
    "* Carregamento dos dados"
   ]
  },
  {
   "cell_type": "code",
   "execution_count": null,
   "metadata": {},
   "outputs": [],
   "source": [
    "# Importa dependências\n",
    "import numpy as np\n",
    "import PIL as pil"
   ]
  },
  {
   "cell_type": "code",
   "execution_count": null,
   "metadata": {},
   "outputs": [],
   "source": [
    "# Carrega o buffer do arquivo\n",
    "with open('./Vectors/data.txt', 'r') as file:\n",
    "    data = file.read().replace('\\n', '')\n",
    "\n",
    "# Carrega o buffer do arquivo\n",
    "with open('./Vectors/dictionary.txt', 'r') as file:\n",
    "    dictionary = file.read().replace('\\n', '')\n"
   ]
  },
  {
   "cell_type": "code",
   "execution_count": null,
   "metadata": {},
   "outputs": [],
   "source": [
    "# Prepara um numpy array para armazenar a imagem\n",
    "np_array_image = np.zeros(shape=[4685, 4312])\n",
    "\n"
   ]
  }
 ],
 "metadata": {
  "kernelspec": {
   "display_name": "Python 3.10.2 64-bit",
   "language": "python",
   "name": "python3"
  },
  "language_info": {
   "name": "python",
   "version": "3.10.2"
  },
  "orig_nbformat": 4,
  "vscode": {
   "interpreter": {
    "hash": "d84c7c7581fbb060129a7814c7432df99c3e3cd8cbdff8553cc4750b2941e60f"
   }
  }
 },
 "nbformat": 4,
 "nbformat_minor": 2
}
